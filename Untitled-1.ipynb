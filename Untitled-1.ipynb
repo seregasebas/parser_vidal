{
 "cells": [
  {
   "cell_type": "code",
   "execution_count": 44,
   "metadata": {},
   "outputs": [
    {
     "name": "stdout",
     "output_type": "stream",
     "text": [
      "2022-08-28 19:40:25,253 INFO sqlalchemy.engine.Engine BEGIN (implicit)\n",
      "2022-08-28 19:40:25,254 INFO sqlalchemy.engine.Engine PRAGMA main.table_info(\"data\")\n",
      "2022-08-28 19:40:25,254 INFO sqlalchemy.engine.Engine [raw sql] ()\n",
      "2022-08-28 19:40:25,254 INFO sqlalchemy.engine.Engine COMMIT\n"
     ]
    }
   ],
   "source": [
    "import json\n",
    "import requests\n",
    "from bs4 import BeautifulSoup\n",
    "import time\n",
    "import classes_ORM"
   ]
  },
  {
   "cell_type": "code",
   "execution_count": 40,
   "metadata": {},
   "outputs": [],
   "source": [
    "'''Данный парсер создает файл название препарата-ссылка для всех страниц сайта vidal.ru\n",
    "   Его запускать только при первой работе с программой или для обновления файла name_url.json'''\n",
    "url = 'https://www.vidal.ru/'\n",
    "url_lek = 'drugs/products/p/rus-'\n",
    "param = '?p='\n",
    "page = 1\n",
    "alphabet = ['a','b','v','g','d','e',\n",
    "            'zh','z','i','j','k','l',\n",
    "            'm','n','o','p','r','s','t',\n",
    "            'u','f','h','ts','ch','sh','eh','yu','ya']\n",
    "alphabet_num = 0\n",
    "url_name = []\n",
    "while True:\n",
    "    if alphabet_num < len(alphabet):\n",
    "        letter = alphabet[alphabet_num] \n",
    "        res = url+url_lek+letter+param+str(page)\n",
    "        response = requests.get(res)\n",
    "        soup = BeautifulSoup(response.text, 'html.parser')\n",
    "        res_soup = soup.find_all('td', class_=['products-table-name','no-underline'])\n",
    "        try:\n",
    "            res_soup[0].text\n",
    "            #формируем список url - name препарата\n",
    "            for i in range(len(res_soup)):\n",
    "                res = str(res_soup[i]).replace('<td class=\"products-table-name\">\\n<a class=\"no-underline\" href=\"','').replace('\">\\n                ','&&&').replace('\\n            </a>\\n</td>','').replace('<sup>®</sup>\\n</a>\\n</td>', '').replace('<sup>®</sup>','')\n",
    "                res = res.split('&&&')\n",
    "                url_name.append(res)\n",
    "            page += 1     \n",
    "        except IndexError:\n",
    "            #следующая буква\n",
    "            alphabet_num += 1\n",
    "            #возвращаем на первую страницу\n",
    "            page = 1\n",
    "    else:\n",
    "        break\n",
    "    # #включить если банят\n",
    "    # time.sleep(1)\n",
    "#формируем словарь name - url\n",
    "name_url_drug = {}\n",
    "for i in range(len(url_name)):\n",
    "        name_url_drug[url_name[i][1].lower()] = url_name[i][0]\n",
    "#сохраняем json файл\n",
    "with open(\"name_url.json\", \"w\", encoding='utf-8') as write_file:\n",
    "        json.dump(name_url_drug, write_file)"
   ]
  },
  {
   "cell_type": "code",
   "execution_count": 41,
   "metadata": {},
   "outputs": [],
   "source": [
    "with open('name_url.json', 'r', encoding = 'utf-8') as f:\n",
    "    text = json.load(f)"
   ]
  },
  {
   "cell_type": "code",
   "execution_count": 42,
   "metadata": {},
   "outputs": [
    {
     "data": {
      "text/plain": [
       "11803"
      ]
     },
     "execution_count": 42,
     "metadata": {},
     "output_type": "execute_result"
    }
   ],
   "source": [
    "len(text)"
   ]
  },
  {
   "cell_type": "code",
   "execution_count": 53,
   "metadata": {},
   "outputs": [
    {
     "name": "stdout",
     "output_type": "stream",
     "text": [
      "2022-08-28 19:41:27,408 INFO sqlalchemy.engine.Engine SELECT data.id AS data_id, data.name AS data_name, data.pharm_group AS data_pharm_group, data.manufacturer AS data_manufacturer, data.form AS data_form, data.indications AS data_indications, data.doses AS data_doses, data.contraindications AS data_contraindications \n",
      "FROM data \n",
      "WHERE data.name = ?\n",
      "2022-08-28 19:41:27,409 INFO sqlalchemy.engine.Engine [cached since 44.07s ago] ('ярина',)\n"
     ]
    }
   ],
   "source": [
    "#Вытыскмваем id добавленных или уже существующих значений города и вакансии, полученных с очередного парсинга\n",
    "data = classes_ORM.session.query(classes_ORM.Data).filter(classes_ORM.Data.name == 'ярина').all()\n",
    "res = {}\n",
    "for i in data:\n",
    "    res['название препарата'] = (i.name)\n",
    "    res['фарм группа'] = (i.pharm_group)\n",
    "    res['производитель'] = (i.manufacturer)\n",
    "    res['форма выпуска'] = (i.form)\n",
    "    res['показания к применению'] = (i.indications)\n",
    "    res['режим дозирования'] = (i.doses)\n",
    "    res['противопоказания'] = (i.contraindications)"
   ]
  },
  {
   "cell_type": "code",
   "execution_count": 57,
   "metadata": {},
   "outputs": [
    {
     "data": {
      "text/plain": [
       "False"
      ]
     },
     "execution_count": 57,
     "metadata": {},
     "output_type": "execute_result"
    }
   ],
   "source": [
    "bool(res)"
   ]
  },
  {
   "cell_type": "code",
   "execution_count": 56,
   "metadata": {},
   "outputs": [],
   "source": [
    "res = {}"
   ]
  }
 ],
 "metadata": {
  "kernelspec": {
   "display_name": "Python 3.10.0 64-bit",
   "language": "python",
   "name": "python3"
  },
  "language_info": {
   "codemirror_mode": {
    "name": "ipython",
    "version": 3
   },
   "file_extension": ".py",
   "mimetype": "text/x-python",
   "name": "python",
   "nbconvert_exporter": "python",
   "pygments_lexer": "ipython3",
   "version": "3.10.0"
  },
  "orig_nbformat": 4,
  "vscode": {
   "interpreter": {
    "hash": "aee8b7b246df8f9039afb4144a1f6fd8d2ca17a180786b69acc140d282b71a49"
   }
  }
 },
 "nbformat": 4,
 "nbformat_minor": 2
}
