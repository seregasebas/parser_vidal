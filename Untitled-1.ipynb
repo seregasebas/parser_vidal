{
 "cells": [
  {
   "cell_type": "code",
   "execution_count": 3,
   "metadata": {},
   "outputs": [],
   "source": [
    "import requests\n",
    "from bs4 import BeautifulSoup\n",
    "import time"
   ]
  },
  {
   "cell_type": "code",
   "execution_count": 20,
   "metadata": {},
   "outputs": [],
   "source": [
    "alphabet = {'а':'a','б':'b','в':'v','г':'g','д':'d','е':'e',\n",
    "            'ж':'zh','з':'z','и':'i','й':'j','к':'k','л':'l',\n",
    "            'м':'m','н':'n','о':'o','п':'p','р':'r','с':'s','т':'t',\n",
    "            'у':'u','ф':'f','х':'h','ц':'ts','ч':'ch','ш':'sh','э':'eh','ю':'yu','я':'ya'}"
   ]
  },
  {
   "cell_type": "code",
   "execution_count": 22,
   "metadata": {},
   "outputs": [],
   "source": [
    "a='я'"
   ]
  },
  {
   "cell_type": "code",
   "execution_count": 23,
   "metadata": {},
   "outputs": [],
   "source": [
    "url = 'https://www.vidal.ru/'\n",
    "url_lek = 'drugs/products/p/rus-'\n",
    "letter = alphabet[a]\n",
    "param = '?p='"
   ]
  },
  {
   "cell_type": "code",
   "execution_count": 24,
   "metadata": {},
   "outputs": [
    {
     "name": "stdout",
     "output_type": "stream",
     "text": [
      "страница: 1\n",
      "страница: 15\n"
     ]
    }
   ],
   "source": [
    "page = 1\n",
    "url_name = []\n",
    "\n",
    "while True:\n",
    "    print(f'страница: {page}')\n",
    "    res = url+url_lek+letter+param+str(page)\n",
    "    response = requests.get(res)\n",
    "    soup = BeautifulSoup(response.text, 'html.parser')\n",
    "    res_soup = soup.find_all('td', class_=['products-table-name','no-underline'])\n",
    "    try:\n",
    "        res_soup[0].text\n",
    "        #формируем список url - name препарата\n",
    "        for i in range(len(res_soup)):\n",
    "            res = str(res_soup[i]).replace('<td class=\"products-table-name\">\\n<a class=\"no-underline\" href=\"','').replace('\">\\n                ','&&&').replace('\\n            </a>\\n</td>','').replace('<sup>®</sup>\\n</a>\\n</td>', '').replace('<sup>®</sup>','')\n",
    "            res = res.split('&&&')\n",
    "            url_name.append(res)   \n",
    "            page += 1  \n",
    "    except IndexError:\n",
    "        break\n",
    "    time.sleep(1)"
   ]
  },
  {
   "cell_type": "code",
   "execution_count": 25,
   "metadata": {},
   "outputs": [
    {
     "data": {
      "text/plain": [
       "[['/drugs/jaquinus__38866', 'Яквинус'],\n",
       " ['/drugs/jaquinus', 'Яквинус'],\n",
       " ['/drugs/jamera', 'Ямера'],\n",
       " ['/drugs/januvia__16152', 'Янувия'],\n",
       " ['/drugs/janumet', 'Янумет'],\n",
       " ['/drugs/janumet-long-2', 'Янумет Лонг'],\n",
       " ['/drugs/janumet-long-1', 'Янумет Лонг'],\n",
       " ['/drugs/janumet-long', 'Янумет Лонг'],\n",
       " ['/drugs/yarina__3182', 'Ярина'],\n",
       " ['/drugs/yarina_plus__32118', 'Ярина Плюс'],\n",
       " ['/drugs/yasitara', 'Яситара'],\n",
       " ['/drugs/yasnal__20464', 'Яснал'],\n",
       " ['/drugs/yasnal__20463', 'Яснал'],\n",
       " ['/drugs/amber-antitox__36507', 'Янтарь-Антитокс']]"
      ]
     },
     "execution_count": 25,
     "metadata": {},
     "output_type": "execute_result"
    }
   ],
   "source": [
    "url_name"
   ]
  },
  {
   "cell_type": "code",
   "execution_count": 26,
   "metadata": {},
   "outputs": [],
   "source": [
    "#формируем словарь name - url\n",
    "name_url_drug = {}\n",
    "\n",
    "for i in range(len(url_name)):\n",
    "    name_url_drug[url_name[i][1]] = url_name[i][0]"
   ]
  },
  {
   "cell_type": "code",
   "execution_count": 27,
   "metadata": {},
   "outputs": [
    {
     "data": {
      "text/plain": [
       "{'Яквинус': '/drugs/jaquinus',\n",
       " 'Ямера': '/drugs/jamera',\n",
       " 'Янувия': '/drugs/januvia__16152',\n",
       " 'Янумет': '/drugs/janumet',\n",
       " 'Янумет Лонг': '/drugs/janumet-long',\n",
       " 'Ярина': '/drugs/yarina__3182',\n",
       " 'Ярина Плюс': '/drugs/yarina_plus__32118',\n",
       " 'Яситара': '/drugs/yasitara',\n",
       " 'Яснал': '/drugs/yasnal__20463',\n",
       " 'Янтарь-Антитокс': '/drugs/amber-antitox__36507'}"
      ]
     },
     "execution_count": 27,
     "metadata": {},
     "output_type": "execute_result"
    }
   ],
   "source": [
    "name_url_drug"
   ]
  },
  {
   "cell_type": "code",
   "execution_count": 28,
   "metadata": {},
   "outputs": [],
   "source": [
    "url_drug = name_url_drug['Ярина']\n",
    "response = requests.get(url+url_drug)\n",
    "soup = BeautifulSoup(response.text, 'html.parser')"
   ]
  },
  {
   "cell_type": "code",
   "execution_count": 29,
   "metadata": {},
   "outputs": [],
   "source": [
    "res_pharm_group = soup.find_all('span', class_= ['block-content','no-underline'])\n",
    "res_dosage_form = soup.find_all('td', class_= 'products-table-zip')\n",
    "res_for_what = soup.find_all('div', class_= ['block-content','no-underline'])\n",
    "res_manufacturer = soup.find_all('a', class_= ['block-head','no-underline'])"
   ]
  },
  {
   "cell_type": "code",
   "execution_count": 30,
   "metadata": {},
   "outputs": [],
   "source": [
    "pharm_group = res_pharm_group[2].text.replace('\\n', '').strip()\n",
    "manufacturer = res_manufacturer[1].text.replace('\\n', '').strip()\n",
    "dosage_form = res_dosage_form[0].text.split('№')[0].replace('\\n', '').strip()\n",
    "for_what = res_for_what[4].text.replace('\\n', '').strip()\n",
    "dosage_regimen = res_for_what[6].text.replace('\\n', '').strip()\n",
    "contraindications = res_for_what[8].text.replace('\\n', '').strip()\n"
   ]
  },
  {
   "cell_type": "code",
   "execution_count": 31,
   "metadata": {},
   "outputs": [
    {
     "name": "stdout",
     "output_type": "stream",
     "text": [
      "фармгруппа: Контрацептивное средство комбинированное (эстроген+гестаген)\n",
      "Производитель: BAYER, AG\n",
      "Форма препарата: Таб., покр. пленочной оболочкой, 30 мкг+3 мг: 21 или 63 шт.рег.\n",
      "Для чего применять: контрацепция.\n",
      "\t\t\tСнижение массы тела Описание отдельных побочных реакцийУ пациенток, принимающих КОК, имеется повышенный риск развития артериальных и венозных тромботических и тромбоэмболических нарушений, включая инфаркт миокарда, инсульт, транзиторные ишемические атаки, тромбоз глубоких вен и тромбоэмболию легочной артерии, более подробно описанные в разделе \"Особые указания\".Сообщалось о следующих серьезных побочных реакциях у женщин, применяющих КОК. Данные побочные реакции описаны в разделе \"Особые указания\":венозные тромбоэмболические нарушения;артериальные тромбоэмболические нарушения;повышение АД;опухоли печени;развитие или ухудшение состояний, для которых связь с применением КОК не является неоспоримой: болезнь Крона, язвенный колит, эпилепсия, миома матки, порфирия, системная красная волчанка, герпес во время беременности, хорея Сиденхема, гемолитико-уремический синдром, холестатическая желтуха;хлоазма;острые или хронические нарушения функции печени, при которых может потребоваться отмена КОК до нормализации функциональных проб печени;у женщин с наследственным ангионевротическим отеком экзогенные эстрогены могут вызвать или усилить симптомы ангионевротического отека.Частота диагностирования рака молочной железы у женщин, применяющих пероральные контрацептивные препараты, повышена весьма незначительно. Рак молочной железы редко наблюдается у женщин до 40 лет, превышение частоты незначительно по отношению к общему риску возникновения рака молочной железы. Причинная связь возникновения рака молочной железы с применением КОК не установлена. Дополнительную информацию см. в разделе \"Противопоказания\" и \"Особые указания\".ВзаимодействиеВзаимодействие других препаратов (индукторов ферментов) с пероральными контрацептивами может приводить к \"прорывным\" кровотечениям и/или снижению контрацептивного эффекта (см. раздел \"Лекарственное взаимодействие\").\n",
      "Противопоказания: Препарат противопоказан во время беременности и в период грудного вскармливания.Если беременность выявляется во время применения препарата Ярина®, препарат следует сразу же отменить. Обширные эпидемиологические исследования не выявили повышенного риска дефектов развития у детей, рожденных женщинами, получавших половые гормоны до беременности, или тератогенного действия, когда половые гормоны принимались по неосторожности в ранние сроки беременности.В то же время, данные о результатах приема препарата Ярина® при беременности ограничены, что не позволяет сделать какие-либо выводы о негативном влиянии препарата на беременность, здоровье новорожденного и плода. В настоящее время какие-либо значимые эпидемиологические данные отсутствуют.Прием препарата может уменьшать количество грудного молока и изменять его состав, поэтому применение препарата противопоказано до прекращения грудного вскармливания. Небольшое количество половых гормонов и/или их метаболитов может выводиться с грудным молоком и оказывать влияние на здоровье ребенка.\n"
     ]
    }
   ],
   "source": [
    "print(f'фармгруппа: {pharm_group}')\n",
    "print(f'Производитель: {manufacturer}')\n",
    "print(f'Форма препарата: {dosage_form}')\n",
    "print(f'Для чего применять: {for_what}')\n",
    "print(f'Режим дозирования: {dosage_regimen}')\n",
    "print(f'Противопоказания: {contraindications}')"
   ]
  }
 ],
 "metadata": {
  "kernelspec": {
   "display_name": "Python 3.10.0 64-bit",
   "language": "python",
   "name": "python3"
  },
  "language_info": {
   "codemirror_mode": {
    "name": "ipython",
    "version": 3
   },
   "file_extension": ".py",
   "mimetype": "text/x-python",
   "name": "python",
   "nbconvert_exporter": "python",
   "pygments_lexer": "ipython3",
   "version": "3.10.0"
  },
  "orig_nbformat": 4,
  "vscode": {
   "interpreter": {
    "hash": "aee8b7b246df8f9039afb4144a1f6fd8d2ca17a180786b69acc140d282b71a49"
   }
  }
 },
 "nbformat": 4,
 "nbformat_minor": 2
}
